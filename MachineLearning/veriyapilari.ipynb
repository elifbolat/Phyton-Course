{
 "cells": [
  {
   "cell_type": "code",
   "execution_count": null,
   "metadata": {},
   "outputs": [],
   "source": []
  },
  {
   "cell_type": "markdown",
   "metadata": {},
   "source": [
    "# Veri Yapıları"
   ]
  },
  {
   "cell_type": "markdown",
   "metadata": {},
   "source": [
    "#LISTELER"
   ]
  },
  {
   "cell_type": "code",
   "execution_count": 1,
   "metadata": {},
   "outputs": [
    {
     "name": "stdout",
     "output_type": "stream",
     "text": [
      "veri yapilari\n"
     ]
    }
   ],
   "source": [
    "print(\"veri yapilari\")"
   ]
  },
  {
   "cell_type": "markdown",
   "metadata": {},
   "source": [
    "#Liste icerisindeki verilerin türü"
   ]
  },
  {
   "cell_type": "code",
   "execution_count": 5,
   "metadata": {},
   "outputs": [
    {
     "data": {
      "text/plain": [
       "str"
      ]
     },
     "execution_count": 5,
     "metadata": {},
     "output_type": "execute_result"
    }
   ],
   "source": [
    "liste = [2,4,\"a\"]\n",
    "type(liste)\n",
    "type(liste[1])\n",
    "type(liste[2])"
   ]
  },
  {
   "cell_type": "markdown",
   "metadata": {},
   "source": [
    "#Listeleri birlestirme"
   ]
  },
  {
   "cell_type": "code",
   "execution_count": 13,
   "metadata": {},
   "outputs": [
    {
     "name": "stdout",
     "output_type": "stream",
     "text": [
      "[[2, 4, 'a'], [1, 2, 5, 6, 'b']]\n"
     ]
    }
   ],
   "source": [
    "list_genis = [1, 2, 5, 6, \"b\"]\n",
    "tum_liste = [liste, list_genis]\n",
    "print(tum_liste)\n",
    "\n"
   ]
  },
  {
   "cell_type": "code",
   "execution_count": 17,
   "metadata": {},
   "outputs": [
    {
     "data": {
      "text/plain": [
       "3"
      ]
     },
     "execution_count": 17,
     "metadata": {},
     "output_type": "execute_result"
    }
   ],
   "source": [
    "len(list_genis)\n",
    "len(liste)\n"
   ]
  },
  {
   "cell_type": "markdown",
   "metadata": {},
   "source": [
    "#Genis listenin icindeki listenin elemanına ulasma"
   ]
  },
  {
   "cell_type": "code",
   "execution_count": 21,
   "metadata": {},
   "outputs": [
    {
     "name": "stdout",
     "output_type": "stream",
     "text": [
      "[[2, 4, 'a'], [1, 2, 5, 6, 'b']]\n"
     ]
    },
    {
     "data": {
      "text/plain": [
       "'a'"
      ]
     },
     "execution_count": 21,
     "metadata": {},
     "output_type": "execute_result"
    }
   ],
   "source": [
    "tum_liste = [liste, list_genis]\n",
    "print(tum_liste)\n",
    "\n",
    "tum_liste[0][2]\n"
   ]
  },
  {
   "cell_type": "markdown",
   "metadata": {},
   "source": [
    "#Listeler - eleman degistirme, ekleme, silme"
   ]
  },
  {
   "cell_type": "code",
   "execution_count": 23,
   "metadata": {},
   "outputs": [
    {
     "name": "stdout",
     "output_type": "stream",
     "text": [
      "['elifin_babasi', 'gorkem', 'ece', 'bayram']\n"
     ]
    }
   ],
   "source": [
    "list = [\"elif\", \"gorkem\", \"ece\", \"bayram\"]\n",
    "list[0] = \"elifin_babasi\"\n",
    "print(list)\n"
   ]
  },
  {
   "cell_type": "code",
   "execution_count": 26,
   "metadata": {},
   "outputs": [
    {
     "name": "stdout",
     "output_type": "stream",
     "text": [
      "['elifin_annesi', 'gorkemin_annesi', 'ece', 'bayram']\n"
     ]
    }
   ],
   "source": [
    "list[0:2] = \"elifin_annesi\", \"gorkemin_annesi\"\n",
    "print(list)\n"
   ]
  },
  {
   "cell_type": "markdown",
   "metadata": {},
   "source": [
    "Not: list[0:2] 0 dahil 2 dahil degil\n"
   ]
  },
  {
   "cell_type": "code",
   "execution_count": 30,
   "metadata": {},
   "outputs": [
    {
     "name": "stdout",
     "output_type": "stream",
     "text": [
      "['elif', 'gorkem', 'ece', 'bayram', 'gulo']\n"
     ]
    }
   ],
   "source": [
    "list = [\"elif\", \"gorkem\", \"ece\", \"bayram\"]\n",
    "list = list + [\"gulo\"]\n",
    "print(list)\n"
   ]
  },
  {
   "cell_type": "code",
   "execution_count": 31,
   "metadata": {},
   "outputs": [
    {
     "name": "stdout",
     "output_type": "stream",
     "text": [
      "['elif', 'gorkem', 'bayram', 'gulo']\n"
     ]
    }
   ],
   "source": [
    "del list[2]\n",
    "print(list)\n"
   ]
  },
  {
   "cell_type": "markdown",
   "metadata": {},
   "source": [
    "#Listeler - Liste metodları"
   ]
  },
  {
   "cell_type": "markdown",
   "metadata": {},
   "source": [
    "listede kalıcı işlemler yapar\n",
    "tekrar liste ataması gerektirmez (eleman ekleme - silme)  dir_append_remove"
   ]
  },
  {
   "cell_type": "code",
   "execution_count": 34,
   "metadata": {},
   "outputs": [
    {
     "data": {
      "text/plain": [
       "['__add__',\n",
       " '__class__',\n",
       " '__class_getitem__',\n",
       " '__contains__',\n",
       " '__delattr__',\n",
       " '__delitem__',\n",
       " '__dir__',\n",
       " '__doc__',\n",
       " '__eq__',\n",
       " '__format__',\n",
       " '__ge__',\n",
       " '__getattribute__',\n",
       " '__getitem__',\n",
       " '__getstate__',\n",
       " '__gt__',\n",
       " '__hash__',\n",
       " '__iadd__',\n",
       " '__imul__',\n",
       " '__init__',\n",
       " '__init_subclass__',\n",
       " '__iter__',\n",
       " '__le__',\n",
       " '__len__',\n",
       " '__lt__',\n",
       " '__mul__',\n",
       " '__ne__',\n",
       " '__new__',\n",
       " '__reduce__',\n",
       " '__reduce_ex__',\n",
       " '__repr__',\n",
       " '__reversed__',\n",
       " '__rmul__',\n",
       " '__setattr__',\n",
       " '__setitem__',\n",
       " '__sizeof__',\n",
       " '__str__',\n",
       " '__subclasshook__',\n",
       " 'append',\n",
       " 'clear',\n",
       " 'copy',\n",
       " 'count',\n",
       " 'extend',\n",
       " 'index',\n",
       " 'insert',\n",
       " 'pop',\n",
       " 'remove',\n",
       " 'reverse',\n",
       " 'sort']"
      ]
     },
     "execution_count": 34,
     "metadata": {},
     "output_type": "execute_result"
    }
   ],
   "source": [
    "list\n",
    "dir (list)"
   ]
  },
  {
   "cell_type": "code",
   "execution_count": 43,
   "metadata": {},
   "outputs": [
    {
     "name": "stdout",
     "output_type": "stream",
     "text": [
      "['elif', 'gorkem', 'bayram', 'gulo']\n",
      "['elif', 'gorkem', 'bayram', 'gulo', 'ece']\n",
      "['gorkem', 'bayram', 'gulo', 'ece']\n"
     ]
    }
   ],
   "source": [
    "list = ['elif', 'gorkem', 'bayram', 'gulo']\n",
    "print (list)\n",
    "\n",
    "list.append (\"ece\")\n",
    "print (list)\n",
    "\n",
    "list.remove (\"elif\")\n",
    "print(list)\n"
   ]
  },
  {
   "cell_type": "markdown",
   "metadata": {},
   "source": [
    "#indexe göre eleman ekleme ve sona eleman ekleme  insert_len"
   ]
  },
  {
   "cell_type": "code",
   "execution_count": 48,
   "metadata": {},
   "outputs": [
    {
     "name": "stdout",
     "output_type": "stream",
     "text": [
      "['gulo', 'elif', 'gorkem', 'ece', 'bayram']\n",
      "['gulo', 'elif', 'sibel', 'gorkem', 'ece', 'bayram']\n"
     ]
    }
   ],
   "source": [
    "list = [\"elif\", \"gorkem\", \"ece\", \"bayram\"]\n",
    "list.insert(0, \"gulo\")\n",
    "print(list)\n",
    "\n",
    "list.insert(2, \"sibel\")\n",
    "print(list)\n"
   ]
  },
  {
   "cell_type": "code",
   "execution_count": 49,
   "metadata": {},
   "outputs": [
    {
     "name": "stdout",
     "output_type": "stream",
     "text": [
      "['elif', 'gorkem', 'ece', 'bayram', 'emre']\n"
     ]
    }
   ],
   "source": [
    "list = [\"elif\", \"gorkem\", \"ece\", \"bayram\"]\n",
    "list.insert(len(list), \"emre\")\n",
    "print(list)"
   ]
  },
  {
   "cell_type": "markdown",
   "metadata": {},
   "source": [
    "#indexe göre eleman silme pop"
   ]
  },
  {
   "cell_type": "code",
   "execution_count": 50,
   "metadata": {},
   "outputs": [
    {
     "name": "stdout",
     "output_type": "stream",
     "text": [
      "['elif', 'gorkem', 'ece']\n"
     ]
    }
   ],
   "source": [
    "list = [\"elif\", \"gorkem\", \"ece\", \"bayram\"]\n",
    "list.pop(3)\n",
    "print(list)"
   ]
  },
  {
   "cell_type": "code",
   "execution_count": 61,
   "metadata": {},
   "outputs": [
    {
     "data": {
      "text/plain": [
       "2"
      ]
     },
     "execution_count": 61,
     "metadata": {},
     "output_type": "execute_result"
    }
   ],
   "source": [
    "liste = [\"elif\", \"gorkem\",\"gorkem\",\"ece\", \"bayram\"]\n",
    "liste.count(\"gorkem\")\n"
   ]
  },
  {
   "cell_type": "code",
   "execution_count": 58,
   "metadata": {},
   "outputs": [
    {
     "name": "stdout",
     "output_type": "stream",
     "text": [
      "['elif', 'gorkem', 'ece', 'bayram', 'a', 'b', 10]\n"
     ]
    }
   ],
   "source": [
    "liste = [\"elif\", \"gorkem\", \"ece\", \"bayram\"]\n",
    "liste.extend([\"a\", \"b\", 10])\n",
    "print(liste)\n"
   ]
  },
  {
   "cell_type": "code",
   "execution_count": 63,
   "metadata": {},
   "outputs": [
    {
     "data": {
      "text/plain": [
       "0"
      ]
     },
     "execution_count": 63,
     "metadata": {},
     "output_type": "execute_result"
    }
   ],
   "source": [
    "liste = [\"elif\", \"gorkem\", \"ece\", \"bayram\"]\n",
    "liste.index(\"elif\")\n"
   ]
  },
  {
   "cell_type": "code",
   "execution_count": 65,
   "metadata": {},
   "outputs": [
    {
     "name": "stdout",
     "output_type": "stream",
     "text": [
      "['bayram', 'ece', 'gorkem', 'elif']\n"
     ]
    }
   ],
   "source": [
    "liste = [\"elif\", \"gorkem\", \"ece\", \"bayram\"]\n",
    "liste.reverse()\n",
    "print(liste)\n"
   ]
  },
  {
   "cell_type": "code",
   "execution_count": 66,
   "metadata": {},
   "outputs": [
    {
     "name": "stdout",
     "output_type": "stream",
     "text": [
      "[1, 2, 3, 4, 6, 8, 9]\n"
     ]
    }
   ],
   "source": [
    "liste = [1,3,9,2,6,4,8]\n",
    "liste.sort()\n",
    "print(liste)\n"
   ]
  },
  {
   "cell_type": "code",
   "execution_count": 68,
   "metadata": {},
   "outputs": [
    {
     "name": "stdout",
     "output_type": "stream",
     "text": [
      "[]\n"
     ]
    }
   ],
   "source": [
    "liste = [\"elif\", \"gorkem\", \"ece\", \"bayram\"]\n",
    "liste.clear()\n",
    "print(liste)\n"
   ]
  },
  {
   "cell_type": "markdown",
   "metadata": {},
   "source": [
    "#TUPLE (degistirilemez, tek elemanlı tuple sonuna , konmalı)"
   ]
  },
  {
   "cell_type": "code",
   "execution_count": 71,
   "metadata": {},
   "outputs": [
    {
     "data": {
      "text/plain": [
       "str"
      ]
     },
     "execution_count": 71,
     "metadata": {},
     "output_type": "execute_result"
    }
   ],
   "source": [
    "t = (\"eleman\")\n",
    "type(t)\n"
   ]
  },
  {
   "cell_type": "code",
   "execution_count": 72,
   "metadata": {},
   "outputs": [
    {
     "data": {
      "text/plain": [
       "tuple"
      ]
     },
     "execution_count": 72,
     "metadata": {},
     "output_type": "execute_result"
    }
   ],
   "source": [
    "t= (\"eleman\",)\n",
    "type(t)"
   ]
  },
  {
   "cell_type": "markdown",
   "metadata": {},
   "source": [
    "Veriler ile ilgili bir değişiklik yapılmasının istenmediği, hiçbir fonksiyonun verileri değiştirmesini istemediğimiz durumlarda tuple kullanırız. DEĞİŞTİRİLEMEZ"
   ]
  },
  {
   "cell_type": "markdown",
   "metadata": {},
   "source": [
    "#DICTIONARY {} (sıralı değil, index işlemleri yapılamaz) (key-value)"
   ]
  },
  {
   "cell_type": "code",
   "execution_count": 73,
   "metadata": {},
   "outputs": [
    {
     "name": "stdout",
     "output_type": "stream",
     "text": [
      "{'REG': 'Regresyon Modeli', 'LOJ': 'Lojistik Regresyon', 'CART': 'Classification and Reg'}\n"
     ]
    }
   ],
   "source": [
    "sozluk = {\"REG\" : \"Regresyon Modeli\" ,\n",
    "          \"LOJ\" : \"Lojistik Regresyon\" ,\n",
    "          \"CART\" : \"Classification and Reg\"}\n",
    "print(sozluk)\n"
   ]
  },
  {
   "cell_type": "code",
   "execution_count": 74,
   "metadata": {},
   "outputs": [
    {
     "ename": "KeyError",
     "evalue": "0",
     "output_type": "error",
     "traceback": [
      "\u001b[1;31m---------------------------------------------------------------------------\u001b[0m",
      "\u001b[1;31mKeyError\u001b[0m                                  Traceback (most recent call last)",
      "Cell \u001b[1;32mIn[74], line 1\u001b[0m\n\u001b[1;32m----> 1\u001b[0m \u001b[43msozluk\u001b[49m\u001b[43m[\u001b[49m\u001b[38;5;241;43m0\u001b[39;49m\u001b[43m]\u001b[49m\n",
      "\u001b[1;31mKeyError\u001b[0m: 0"
     ]
    }
   ],
   "source": [
    "sozluk[0]\n"
   ]
  },
  {
   "cell_type": "markdown",
   "metadata": {},
   "source": [
    "index kullanılmaz!"
   ]
  },
  {
   "cell_type": "code",
   "execution_count": 75,
   "metadata": {},
   "outputs": [
    {
     "data": {
      "text/plain": [
       "'Regresyon Modeli'"
      ]
     },
     "execution_count": 75,
     "metadata": {},
     "output_type": "execute_result"
    }
   ],
   "source": [
    "sozluk[\"REG\"]\n"
   ]
  },
  {
   "cell_type": "markdown",
   "metadata": {},
   "source": [
    "eleman ekleme ve değiştirme"
   ]
  },
  {
   "cell_type": "code",
   "execution_count": 76,
   "metadata": {},
   "outputs": [
    {
     "name": "stdout",
     "output_type": "stream",
     "text": [
      "{'REG': 'Regresyon Modeli', 'LOJ': 'Lojistik Regresyon', 'CART': 'Classification and Reg', 'GBM': 'Gradient Boosting Mac'}\n"
     ]
    }
   ],
   "source": [
    "sozluk = {\"REG\" : \"Regresyon Modeli\" ,\n",
    "          \"LOJ\" : \"Lojistik Regresyon\" ,\n",
    "          \"CART\" : \"Classification and Reg\"}\n",
    "sozluk[\"GBM\"] = \"Gradient Boosting Mac\"\n",
    "print(sozluk)\n"
   ]
  },
  {
   "cell_type": "code",
   "execution_count": 77,
   "metadata": {},
   "outputs": [
    {
     "name": "stdout",
     "output_type": "stream",
     "text": [
      "{'REG': 'Coklu Dogrusal Regresyon', 'LOJ': 'Lojistik Regresyon', 'CART': 'Classification and Reg'}\n"
     ]
    }
   ],
   "source": [
    "sozluk = {\"REG\" : \"Regresyon Modeli\" ,\n",
    "          \"LOJ\" : \"Lojistik Regresyon\" ,\n",
    "          \"CART\" : \"Classification and Reg\"}\n",
    "sozluk[\"REG\"] = \"Coklu Dogrusal Regresyon\"\n",
    "print(sozluk)\n"
   ]
  },
  {
   "cell_type": "markdown",
   "metadata": {},
   "source": [
    "SET (KÜME) (sırasız index işlemez ve eşsiz)"
   ]
  }
 ],
 "metadata": {
  "kernelspec": {
   "display_name": "Python 3",
   "language": "python",
   "name": "python3"
  },
  "language_info": {
   "codemirror_mode": {
    "name": "ipython",
    "version": 3
   },
   "file_extension": ".py",
   "mimetype": "text/x-python",
   "name": "python",
   "nbconvert_exporter": "python",
   "pygments_lexer": "ipython3",
   "version": "3.12.3"
  }
 },
 "nbformat": 4,
 "nbformat_minor": 2
}
